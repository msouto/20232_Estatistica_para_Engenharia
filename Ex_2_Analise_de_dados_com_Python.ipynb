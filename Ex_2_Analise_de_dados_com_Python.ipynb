{
  "nbformat": 4,
  "nbformat_minor": 0,
  "metadata": {
    "colab": {
      "provenance": [],
      "mount_file_id": "1KddHtGkGdul0jxyPqWREf17ifD8xD9wK",
      "authorship_tag": "ABX9TyMXKGzUumJQ9BXp8NilXi29",
      "include_colab_link": true
    },
    "kernelspec": {
      "name": "python3",
      "display_name": "Python 3"
    },
    "language_info": {
      "name": "python"
    }
  },
  "cells": [
    {
      "cell_type": "markdown",
      "metadata": {
        "id": "view-in-github",
        "colab_type": "text"
      },
      "source": [
        "<a href=\"https://colab.research.google.com/github/msouto/20232_Estatistica_para_Engenharia/blob/main/Ex_2_Analise_de_dados_com_Python.ipynb\" target=\"_parent\"><img src=\"https://colab.research.google.com/assets/colab-badge.svg\" alt=\"Open In Colab\"/></a>"
      ]
    },
    {
      "cell_type": "code",
      "execution_count": null,
      "metadata": {
        "id": "hre0hqYPI_xi"
      },
      "outputs": [],
      "source": [
        "#importando bibliotecas\n",
        "import pandas as pd\n",
        "import numpy as np\n",
        "import seaborn as sns\n",
        "from scipy import stats\n",
        "from scipy.stats import norm\n",
        "import statsmodels.api as sm\n",
        "import matplotlib.pyplot as plt"
      ]
    },
    {
      "cell_type": "code",
      "source": [
        "#Trabalhando com arquivo no google drive\n",
        "from google.colab import drive\n",
        "drive.mount('/content/drive')"
      ],
      "metadata": {
        "colab": {
          "base_uri": "https://localhost:8080/"
        },
        "id": "yvsr9VjALEvx",
        "outputId": "c30c068a-f777-45e6-c537-6742076ad3cb"
      },
      "execution_count": null,
      "outputs": [
        {
          "output_type": "stream",
          "name": "stdout",
          "text": [
            "Mounted at /content/drive\n"
          ]
        }
      ]
    },
    {
      "cell_type": "code",
      "source": [
        "#leitura do arquivo\n",
        "dataset_agua = pd.read_csv('/content/drive/MyDrive/datasets/balneabilidade2020.csv')\n",
        "print(dataset_agua)"
      ],
      "metadata": {
        "colab": {
          "base_uri": "https://localhost:8080/"
        },
        "id": "i61FoZjsNnZ5",
        "outputId": "dcb138bd-4fdf-4ba7-e4a9-2d3d770b39ef"
      },
      "execution_count": null,
      "outputs": [
        {
          "output_type": "stream",
          "name": "stdout",
          "text": [
            "   Estacões       Municipio                   Local da coleta  26/12/2019  \\\n",
            "0     NF-01  Nisia Floresta                         Tabatinga           2   \n",
            "1     NF-02  Nisia Floresta                 Buzios (Rio Doce)           5   \n",
            "2     NF-03  Nisia Floresta                 Buzios (Barracas)           8   \n",
            "3     NF-04  Nisia Floresta           Pirangi do Sul (Igreja)           5   \n",
            "4     NF-05  Nisia Floresta                Foz do Rio Pirangi         540   \n",
            "5     NF-06  Nisia Floresta                  Lagoa de Arituba          49   \n",
            "6     PA-01      Parnamirim             Rio Pium (Ponte Nova)         920   \n",
            "7     PA-02      Parnamirim          Pirangi do Norte (APURN)          63   \n",
            "8     PA-03      Parnamirim     Pirangi  do Norte (Coqueiros)          84   \n",
            "9     PA-04      Parnamirim             Cotovelo (Barramares)           2   \n",
            "10    PA-05      Parnamirim         Rio Pium (Balneario Pium)        1600   \n",
            "11    NA-01           Natal      Pta. Negra (Morro do Careca)          23   \n",
            "12    NA-02           Natal     Pta. Negra (Acesso principal)          49   \n",
            "13    NA-03           Natal           Pta. Negra (Free Willy)          11   \n",
            "14    NA-04           Natal    Pta. Negra (Final do Calcadao)           2   \n",
            "15    NA-05           Natal     Via Costeira (Cacimba do Boi)           8   \n",
            "16    NA-06           Natal    Via Costeira (Barreira D’agua)           2   \n",
            "17    NA-07           Natal                         Mae Luiza          13   \n",
            "18    NA-08           Natal             Miami (Relógio Solar)           2   \n",
            "19    NA-09           Natal    Areia Preta (Praca da Jangada)          13   \n",
            "20    NA-10           Natal  Artistas/ (Centro de Artesanato)         240   \n",
            "21    NA-11           Natal                    Meio (Iemanja)          33   \n",
            "22    NA-12           Natal                             Forte           2   \n",
            "23    NA-13           Natal             Redinha (Rio Potengi)         240   \n",
            "24    NA-14           Natal                  Redinha (Igreja)          17   \n",
            "25    NA-15           Natal                Redinha (Barracas)           8   \n",
            "26    EX-01        Extremoz            Redinha Nova (Espigao)           2   \n",
            "27    EX-02        Extremoz            Redinha Nova (Tombolo)           2   \n",
            "28    EX-03        Extremoz               Genipabu (Barracas)          13   \n",
            "29    EX-04        Extremoz         Barra do Rio (Cata-vento)           5   \n",
            "30    EX-05        Extremoz               Gracandu (Barracas)           2   \n",
            "31    EX-06        Extremoz                          Pitangui           2   \n",
            "32    EX-07        Extremoz                 Lagoa de Pitangui          70   \n",
            "\n",
            "    23/01/2020  30/01/2020  06/02/2020  13/02/2020  20/02/2020  27/02/2020  \\\n",
            "0            2          70          23          11          23           5   \n",
            "1           40          40          13          11          27           2   \n",
            "2           23           8           3           2          49           2   \n",
            "3           48         150        3500         140         920          79   \n",
            "4          920        3500        5400        1600        3500         540   \n",
            "5           13         540          23          23          92          23   \n",
            "6          240         350         240         350        2400        5400   \n",
            "7         1600          49         540          79         130         350   \n",
            "8           23          33        1600          33         110         350   \n",
            "9           33           8           2          33          46          23   \n",
            "10         130         240         130         350        1100        1600   \n",
            "11          70           7          11        2400          46          70   \n",
            "12          33          49           2         240         220           5   \n",
            "13          33           2          23         350        1600           2   \n",
            "14           2          84           2        3500        9200           2   \n",
            "15           2           6         430        1600        2400         130   \n",
            "16          23         430           2         110         350          23   \n",
            "17           2           2           5          79         350          33   \n",
            "18           5           5          49         350          73          23   \n",
            "19           2           2          13        3500        2400           5   \n",
            "20          23        3500           7           8           8          21   \n",
            "21           2           2           2        3500        2200         170   \n",
            "22           5           2          41        1600        1300         920   \n",
            "23         350         540        3500        1400        2400         130   \n",
            "24          23          79          21          79         350          49   \n",
            "25          13           5           5        1600         220          33   \n",
            "26           2          17           2          49          49           8   \n",
            "27           2           2           2          79         350          11   \n",
            "28           8           2          33          23          13           5   \n",
            "29         170          49          79          23          23           8   \n",
            "30          33           7          23          13          49           2   \n",
            "31           5           5          13         240          33          33   \n",
            "32          70           7          49         240          49         110   \n",
            "\n",
            "    12/03/2020  19/03/2020  \n",
            "0           33           2  \n",
            "1           58          13  \n",
            "2          210          23  \n",
            "3          170         350  \n",
            "4          920          49  \n",
            "5          920          79  \n",
            "6         1600        1600  \n",
            "7           23         540  \n",
            "8           70         280  \n",
            "9           31          49  \n",
            "10        1600         920  \n",
            "11         170           2  \n",
            "12        3500         350  \n",
            "13        3500          23  \n",
            "14         110          46  \n",
            "15        3500           2  \n",
            "16          49           2  \n",
            "17         350          23  \n",
            "18        2400         540  \n",
            "19       35000         540  \n",
            "20          63         130  \n",
            "21         170         240  \n",
            "22       16000          11  \n",
            "23        2100         540  \n",
            "24          79          11  \n",
            "25          79           2  \n",
            "26          23         170  \n",
            "27         170           5  \n",
            "28          23          49  \n",
            "29          33         350  \n",
            "30          70         920  \n",
            "31         540          12  \n",
            "32        3500          23  \n"
          ]
        }
      ]
    }
  ]
}