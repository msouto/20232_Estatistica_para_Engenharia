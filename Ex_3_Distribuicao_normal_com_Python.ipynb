{
  "nbformat": 4,
  "nbformat_minor": 0,
  "metadata": {
    "colab": {
      "provenance": [],
      "authorship_tag": "ABX9TyMC1l4lHFuJAtR5vxjaA+ns",
      "include_colab_link": true
    },
    "kernelspec": {
      "name": "python3",
      "display_name": "Python 3"
    },
    "language_info": {
      "name": "python"
    }
  },
  "cells": [
    {
      "cell_type": "markdown",
      "metadata": {
        "id": "view-in-github",
        "colab_type": "text"
      },
      "source": [
        "<a href=\"https://colab.research.google.com/github/msouto/20232_Estatistica_para_Engenharia/blob/main/Ex_3_Distribuicao_normal_com_Python.ipynb\" target=\"_parent\"><img src=\"https://colab.research.google.com/assets/colab-badge.svg\" alt=\"Open In Colab\"/></a>"
      ]
    },
    {
      "cell_type": "code",
      "execution_count": 4,
      "metadata": {
        "id": "q_GG3IfS0CVF"
      },
      "outputs": [],
      "source": [
        "import numpy as np\n",
        "import matplotlib.pyplot as plt\n",
        "from scipy.special import erf\n",
        "\n",
        "def edCF(x, mu, sigma):\n",
        "  #score Z\n",
        "  z = (x-mu) / (sigma * np.sqrt(2))\n",
        "  y=0.5 * (1 + erf(z) )\n",
        "  return y\n",
        "\n",
        "#parametros da distribuição normal\n",
        "mu = 0\n",
        "sigma = 1\n",
        "\n",
        "#Gerar os valores de x para calcular a edCF\n",
        "x_values = np.linspace(-3,3,1000)\n",
        "\n",
        "#Calcular a edCF para os valores de x\n",
        "y_values = edCF(x_values,mu,sigma)\n"
      ]
    }
  ]
}